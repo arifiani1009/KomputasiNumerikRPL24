{
  "nbformat": 4,
  "nbformat_minor": 0,
  "metadata": {
    "colab": {
      "provenance": []
    },
    "kernelspec": {
      "name": "python3",
      "display_name": "Python 3"
    },
    "language_info": {
      "name": "python"
    }
  },
  "cells": [
    {
      "cell_type": "code",
      "execution_count": 51,
      "metadata": {
        "id": "EZgOkUdjFKZ0"
      },
      "outputs": [],
      "source": [
        "from scipy.misc import derivative\n",
        "import math\n",
        "\n",
        "class TaylorSeries():\n",
        "    def __init__(self, function, order, center=0):\n",
        "        self.center = center\n",
        "        self.f = function\n",
        "        self.order = order\n",
        "        self.d_pts = order*2\n",
        "        self.coefficients = []\n",
        "\n",
        "        # number of points (order) for scipy.misc.derivative\n",
        "        if self.d_pts % 2 == 0: # must be odd and greater than derivative order\n",
        "            self.d_pts += 1\n",
        "\n",
        "        self.__find_coefficients()\n",
        "\n",
        "    def __find_coefficients(self):\n",
        "        for i in range(0, self.order+1):\n",
        "            self.coefficients.append(round(derivative(self.f, self.center, n=i, order=self.d_pts)/math.factorial(i), 5))\n",
        "    def print_equation(self):\n",
        "        eqn_string = \"\"\n",
        "        for i in range(self.order + 1):\n",
        "            if self.coefficients[i] != 0:\n",
        "                eqn_string += str(self.coefficients[i]) + (\"(x-{})^{}\".format(self.center, i) if i > 0 else \"\") + \" + \"\n",
        "        eqn_string = eqn_string[:-3] if eqn_string.endswith(\" + \") else eqn_string\n",
        "        print(eqn_string)\n",
        "\n",
        "    def print_coefficients(self):\n",
        "        print(self.coefficients)\n",
        "\n",
        "    def get_coefficients(self):\n",
        "        \"\"\"\n",
        "            Returns the coefficients of the taylor series\n",
        "        \"\"\"\n",
        "        return self.coefficients"
      ]
    },
    {
      "cell_type": "code",
      "source": [
        "def f(x):\n",
        "    return x**3 - 2*x + 4\n",
        "\n",
        "def g(x):\n",
        "    return math.sin(x)\n",
        "\n",
        "if __name__ == '__main__':\n",
        "    terms = 4\n",
        "    center = 0\n",
        "    precision = 2\n",
        "\n",
        "    ts = TaylorSeries(f, terms, center)\n",
        "    ts.print_coefficients()\n",
        "    ts.print_equation()\n",
        "\n",
        "    ts2 = TaylorSeries(g, terms, center)\n",
        "    ts2.print_coefficients()\n",
        "    ts2.print_equation()"
      ],
      "metadata": {
        "colab": {
          "base_uri": "https://localhost:8080/"
        },
        "id": "ydQEs8gvFcIr",
        "outputId": "36b3ff9e-b17f-4cc7-f2e5-007000870705"
      },
      "execution_count": 53,
      "outputs": [
        {
          "output_type": "stream",
          "name": "stdout",
          "text": [
            "[4.0, -2.0, 0.0, 1.0, 0.0]\n",
            "4.0 + -2.0(x-0)^1 + 1.0(x-0)^3\n",
            "[0.0, 0.99879, -0.0, -0.16494, -0.0]\n",
            "0.99879(x-0)^1 + -0.16494(x-0)^3\n"
          ]
        },
        {
          "output_type": "stream",
          "name": "stderr",
          "text": [
            "<ipython-input-51-7957e8f27bad>:20: DeprecationWarning: scipy.misc.derivative is deprecated in SciPy v1.10.0; and will be completely removed in SciPy v1.12.0. You may consider using findiff: https://github.com/maroba/findiff or numdifftools: https://github.com/pbrod/numdifftools\n",
            "  self.coefficients.append(round(derivative(self.f, self.center, n=i, order=self.d_pts)/math.factorial(i), 5))\n"
          ]
        }
      ]
    }
  ]
}